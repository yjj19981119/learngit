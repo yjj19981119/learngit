{
 "cells": [
  {
   "cell_type": "code",
   "execution_count": 7,
   "metadata": {},
   "outputs": [],
   "source": [
    "import numpy as np\n",
    "import torch.optim as optim"
   ]
  },
  {
   "cell_type": "code",
   "execution_count": 29,
   "metadata": {},
   "outputs": [
    {
     "ename": "NameError",
     "evalue": "name 'petri_net' is not defined",
     "output_type": "error",
     "traceback": [
      "\u001b[1;31m---------------------------------------------------------------------------\u001b[0m",
      "\u001b[1;31mNameError\u001b[0m                                 Traceback (most recent call last)",
      "\u001b[1;32md:\\petri\\petri.ipynb Cell 2\u001b[0m in \u001b[0;36m<cell line: 1>\u001b[1;34m()\u001b[0m\n\u001b[1;32m----> <a href='vscode-notebook-cell:/d%3A/petri/petri.ipynb#W1sZmlsZQ%3D%3D?line=0'>1</a>\u001b[0m petri_net\u001b[39m.\u001b[39mtran\u001b[39m=\u001b[39m(petri_net\u001b[39m.\u001b[39mm[:,\u001b[39mNone\u001b[39;00m]\u001b[39m+\u001b[39mpetri_net\u001b[39m.\u001b[39mmat\u001b[39m>\u001b[39m\u001b[39m=\u001b[39m\u001b[39m0\u001b[39m)\u001b[39m.\u001b[39mall(\u001b[39m0\u001b[39m)\n",
      "\u001b[1;31mNameError\u001b[0m: name 'petri_net' is not defined"
     ]
    }
   ],
   "source": []
  },
  {
   "cell_type": "code",
   "execution_count": 43,
   "metadata": {},
   "outputs": [
    {
     "data": {
      "text/plain": [
       "((1, 2, 1, 3, 1, 4), (2, 3, 4))"
      ]
     },
     "execution_count": 43,
     "metadata": {},
     "output_type": "execute_result"
    }
   ],
   "source": [
    "a=np.arange(0,24).reshape(2,3,4)\n",
    "b=np.arange(0,2)\n",
    "c=(None,slice(None))*3\n",
    "a[c].shape,a.shape"
   ]
  },
  {
   "cell_type": "code",
   "execution_count": 295,
   "metadata": {},
   "outputs": [
    {
     "name": "stdout",
     "output_type": "stream",
     "text": [
      "[[-1.  0.  0.  1.]\n",
      " [ 1. -1.  0.  0.]\n",
      " [ 1.  0. -1.  0.]\n",
      " [ 0.  1.  0. -1.]\n",
      " [ 0.  0.  1. -1.]]\n",
      "初始标识： [3. 0. 0. 0. 0.]\n",
      "\n",
      "可激发变迁： [1]\n",
      "激发变迁： 1\n",
      "当前标识： [2. 1. 1. 0. 0.]\n",
      "\n",
      "可激发变迁： [1 2 3]\n",
      "激发变迁： 3\n",
      "当前标识： [2. 1. 0. 0. 1.]\n",
      "\n",
      "可激发变迁： [1 2]\n",
      "激发变迁： 2\n",
      "当前标识： [2. 0. 0. 1. 1.]\n",
      "\n",
      "可激发变迁： [1 4]\n",
      "激发变迁： 4\n",
      "当前标识： [3. 0. 0. 0. 0.]\n",
      "\n",
      "可激发变迁： [1]\n",
      "激发变迁： 1\n",
      "当前标识： [2. 1. 1. 0. 0.]\n",
      "\n",
      "可激发变迁： [1 2 3]\n",
      "激发变迁： 3\n",
      "当前标识： [2. 1. 0. 0. 1.]\n",
      "\n",
      "可激发变迁： [1 2]\n",
      "激发变迁： 2\n",
      "当前标识： [2. 0. 0. 1. 1.]\n",
      "\n",
      "可激发变迁： [1 4]\n",
      "激发变迁： 1\n",
      "当前标识： [1. 1. 1. 1. 1.]\n",
      "\n",
      "可激发变迁： [1 2 3 4]\n",
      "激发变迁： 1\n",
      "当前标识： [0. 2. 2. 1. 1.]\n",
      "\n",
      "可激发变迁： [2 3 4]\n",
      "激发变迁： 2\n",
      "当前标识： [0. 1. 2. 2. 1.]\n"
     ]
    },
    {
     "data": {
      "text/plain": [
       "1"
      ]
     },
     "execution_count": 295,
     "metadata": {},
     "output_type": "execute_result"
    }
   ],
   "source": [
    "import numpy as np\n",
    "\n",
    "class Petri_net(object):\n",
    "    def __init__(self,mat_pre,mat_post,m0):\n",
    "        self.mat_pre=mat_pre\n",
    "        self.mat_post=mat_post\n",
    "        self.mat=self.mat_post-self.mat_pre\n",
    "        self.m=m0\n",
    "\n",
    "    def is_tansition(self):\n",
    "        self.tran=(self.m[:,None]>=self.mat_pre).all(0).nonzero()[0]   \n",
    "        return  np.where(self.tran.size,True,False)  \n",
    "\n",
    "    def firing(self,T):\n",
    "        self.m=self.m+self.mat[:,T]     \n",
    "\n",
    "\n",
    "mat_pre = np.loadtxt(\"D:\\\\petri_learning\\\\c.pre.txt\")\n",
    "mat_post = np.loadtxt(\"D:\\\\petri_learning\\\\c.post.txt\")\n",
    "m0 = np.loadtxt(\"D:\\\\petri_learning\\\\m0.txt\")\n",
    "petri_net=Petri_net(mat_pre,mat_post,m0)  \n",
    "print(petri_net.mat) \n",
    "print(\"初始标识：\",petri_net.m)\n",
    "for x in range(10):\n",
    "    if petri_net.is_tansition():  #判断是否存在可激发变迁\n",
    "        tran_enable=np.random.choice(petri_net.tran)  #随机选择一个可激发变迁\n",
    "    else:\n",
    "        print(\"\\n无可激发变迁！\")\n",
    "        break\n",
    "    petri_net.firing(tran_enable)    #激发变迁\n",
    "    print(\"\\n可激发变迁：\",petri_net.tran+1)\n",
    "    print(\"激发变迁：\",tran_enable+1)\n",
    "    print(\"当前标识：\",petri_net.m)\n",
    "\n",
    "\n",
    "\n"
   ]
  },
  {
   "cell_type": "markdown",
   "metadata": {},
   "source": []
  },
  {
   "cell_type": "code",
   "execution_count": 10,
   "metadata": {},
   "outputs": [
    {
     "data": {
      "text/plain": [
       "array([False, False, False, False, False, False])"
      ]
     },
     "execution_count": 10,
     "metadata": {},
     "output_type": "execute_result"
    }
   ],
   "source": [
    "\n",
    "(petri_net.m[:,None]>=petri_net.mat_pre).all(0)"
   ]
  },
  {
   "cell_type": "code",
   "execution_count": 590,
   "metadata": {},
   "outputs": [
    {
     "data": {
      "text/plain": [
       "array([2., 1., 1., 0., 0.])"
      ]
     },
     "execution_count": 590,
     "metadata": {},
     "output_type": "execute_result"
    }
   ],
   "source": []
  },
  {
   "cell_type": "code",
   "execution_count": 1,
   "metadata": {},
   "outputs": [
    {
     "name": "stdout",
     "output_type": "stream",
     "text": [
      "0 0 1\n",
      "1 0 2\n",
      "1 1 3\n",
      "1 2 4\n",
      "2 0 5\n",
      "2 1 6\n",
      "2 2 7\n",
      "3 0 6\n",
      "3 2 8\n",
      "4 0 7\n",
      "4 1 8\n",
      "5 1 9\n",
      "5 2 10\n",
      "6 0 9\n",
      "6 1 11\n",
      "6 2 12\n",
      "7 0 10\n",
      "7 1 12\n",
      "7 2 13\n",
      "8 0 12\n",
      "8 3 0\n",
      "9 1 14\n",
      "9 2 15\n",
      "10 1 15\n",
      "10 2 16\n",
      "11 0 14\n",
      "11 2 17\n",
      "12 0 15\n",
      "12 1 17\n",
      "12 2 18\n",
      "12 3 1\n",
      "13 0 16\n",
      "13 1 18\n",
      "14 1 19\n",
      "14 2 20\n",
      "15 1 20\n",
      "15 2 21\n",
      "15 3 2\n",
      "16 1 21\n",
      "16 2 22\n",
      "17 0 20\n",
      "17 2 23\n",
      "17 3 3\n",
      "18 0 21\n",
      "18 1 23\n",
      "18 3 4\n",
      "19 2 24\n",
      "20 1 24\n",
      "20 2 25\n",
      "20 3 6\n",
      "21 1 25\n",
      "21 2 26\n",
      "21 3 7\n",
      "22 1 26\n",
      "23 0 25\n",
      "23 3 8\n",
      "24 2 27\n",
      "24 3 11\n",
      "25 1 27\n",
      "25 2 28\n",
      "25 3 12\n",
      "26 1 28\n",
      "26 3 13\n",
      "27 2 29\n",
      "27 3 17\n",
      "28 1 29\n",
      "28 3 18\n",
      "29 3 23\n"
     ]
    },
    {
     "data": {
      "text/plain": [
       "({0: [1],\n",
       "  1: [2, 3, 4],\n",
       "  2: [5, 6, 7],\n",
       "  3: [6, 8],\n",
       "  4: [7, 8],\n",
       "  5: [9, 10],\n",
       "  6: [9, 11, 12],\n",
       "  7: [10, 12, 13],\n",
       "  8: [12, 0],\n",
       "  9: [14, 15],\n",
       "  10: [15, 16],\n",
       "  11: [14, 17],\n",
       "  12: [15, 17, 18, 1],\n",
       "  13: [16, 18],\n",
       "  14: [19, 20],\n",
       "  15: [20, 21, 2],\n",
       "  16: [21, 22],\n",
       "  17: [20, 23, 3],\n",
       "  18: [21, 23, 4],\n",
       "  19: [24],\n",
       "  20: [24, 25, 6],\n",
       "  21: [25, 26, 7],\n",
       "  22: [26],\n",
       "  23: [25, 8],\n",
       "  24: [27, 11],\n",
       "  25: [27, 28, 12],\n",
       "  26: [28, 13],\n",
       "  27: [29, 17],\n",
       "  28: [29, 18],\n",
       "  29: [23]},\n",
       " {0: array([3., 0., 0., 0., 0.]),\n",
       "  1: array([2., 1., 1., 0., 0.]),\n",
       "  2: array([1., 2., 2., 0., 0.]),\n",
       "  3: array([2., 0., 1., 1., 0.]),\n",
       "  4: array([2., 1., 0., 0., 1.]),\n",
       "  5: array([0., 3., 3., 0., 0.]),\n",
       "  6: array([1., 1., 2., 1., 0.]),\n",
       "  7: array([1., 2., 1., 0., 1.]),\n",
       "  8: array([2., 0., 0., 1., 1.]),\n",
       "  9: array([0., 2., 3., 1., 0.]),\n",
       "  10: array([0., 3., 2., 0., 1.]),\n",
       "  11: array([1., 0., 2., 2., 0.]),\n",
       "  12: array([1., 1., 1., 1., 1.]),\n",
       "  13: array([1., 2., 0., 0., 2.]),\n",
       "  14: array([0., 1., 3., 2., 0.]),\n",
       "  15: array([0., 2., 2., 1., 1.]),\n",
       "  16: array([0., 3., 1., 0., 2.]),\n",
       "  17: array([1., 0., 1., 2., 1.]),\n",
       "  18: array([1., 1., 0., 1., 2.]),\n",
       "  19: array([0., 0., 3., 3., 0.]),\n",
       "  20: array([0., 1., 2., 2., 1.]),\n",
       "  21: array([0., 2., 1., 1., 2.]),\n",
       "  22: array([0., 3., 0., 0., 3.]),\n",
       "  23: array([1., 0., 0., 2., 2.]),\n",
       "  24: array([0., 0., 2., 3., 1.]),\n",
       "  25: array([0., 1., 1., 2., 2.]),\n",
       "  26: array([0., 2., 0., 1., 3.]),\n",
       "  27: array([0., 0., 1., 3., 2.]),\n",
       "  28: array([0., 1., 0., 2., 3.]),\n",
       "  29: array([0., 0., 0., 3., 3.])})"
      ]
     },
     "execution_count": 1,
     "metadata": {},
     "output_type": "execute_result"
    }
   ],
   "source": [
    "import numpy as np\n",
    "\n",
    "class Petri_net(object):\n",
    "    def __init__(self,mat_pre,mat_post,m0):\n",
    "        self.mat_pre=mat_pre\n",
    "        self.mat_post=mat_post\n",
    "        self.mat=self.mat_post-self.mat_pre\n",
    "        self.m=m0\n",
    "\n",
    "    def is_tansition(self):\n",
    "        self.tran=(self.m[:,None]>=self.mat_pre).all(0).nonzero()[0]   \n",
    "        return  np.where(self.tran.size,True,False)  \n",
    "\n",
    "    def firing(self,T):\n",
    "        self.m=self.m+self.mat[:,T] \n",
    "\n",
    "class Node():\n",
    "    def __init__(self, name):\n",
    "        self.name = name\n",
    "        self.next = None\n",
    "\n",
    "class Graph_E(object):\n",
    "    def __init__(self, node=None):\n",
    "        self.head = node\n",
    "        self.edge = {node.name:[]}\n",
    "\n",
    "\n",
    "    def append_head_node(self,head_node):\n",
    "        self.edge.update({head_node:[]})\n",
    "\n",
    "    def append_next_node(self,head_node, node_name):\n",
    "        \n",
    "        self.edge[head_node].append(node_name)\n",
    "\n",
    "class Graph_W(object):\n",
    "    def __init__(self, head=None,t=None,next=None):\n",
    "        self.head = head\n",
    "        self.next = next\n",
    "        self.t=t\n",
    "\n",
    "\n",
    "class Graph_V(object):\n",
    "    def __init__(self,mat_pre,mat_post,m0):\n",
    "        self.mat_pre=mat_pre\n",
    "        self.mat_post=mat_post\n",
    "        self.mat=self.mat_post-self.mat_pre\n",
    "        self.m=m0\n",
    "        self.Vnew={0:m0}\n",
    "        self.V={0:m0}\n",
    "        self.num=0\n",
    "    \n",
    "    def is_empty_Vnew(self):  ##判断Vnew是否为空\n",
    "        return np.where(len(self.Vnew),True,False)\n",
    "\n",
    "    def is_empty_Te(self):    ##判断Te是否为空\n",
    "        return np.where(len(self.Te),True,False)\n",
    "\n",
    "    def node_choose(self):    ##从Vnew选择新节点\n",
    "        #temp=np.random.choice(list(self.Vnew.keys()))\n",
    "        temp=list(self.Vnew.keys())[0]\n",
    "        return temp\n",
    "\n",
    "    def Te_choose(self):    ##从Te选择一个可激发变迁\n",
    "        ##temp=np.random.choice(self.Te)\n",
    "        temp=self.Te[0]\n",
    "        return temp\n",
    "\n",
    "    def Vnew_delete(self,num): ##从Vnew删除选择节点\n",
    "        self.Vnew.pop(num)\n",
    "\n",
    "    def T_delete(self,t):     ##并从Te中删除\n",
    "        self.Te=[x for x in self.Te if x!=t]\n",
    "\n",
    "    def is_tansition(self,M):   #获得新节点的可激发变迁 返回可激发变迁是否为空\n",
    "        self.Te=(M[:,None]>=self.mat_pre).all(0).nonzero()[0]   \n",
    "        return  np.where(self.Te.size,True,False)  \n",
    "\n",
    "    def firing(self,T,M):       ##随机选择一变迁激发  \n",
    "        self.m=M+self.mat[:,T]   \n",
    "        return self.m\n",
    "    \n",
    "    def is_new_node(self,m_new):  ##判断新节点是否在V中出现过\n",
    "        temp=np.array([list(item) for item in self.V.values()])\n",
    "        return np.where((temp==m_new[:None]).all(1).nonzero()[0].size,False,True)\n",
    "\n",
    "    def node_update(self):\n",
    "        self.num+=1\n",
    "        self.Vnew.update({self.num:self.m})\n",
    "        self.V.update({self.num:self.m})\n",
    "\n",
    "\n",
    "def get_node_num(Dict,m):\n",
    "    return [k for k, v in Dict.items() if (v == m).all(0)][0]\n",
    "\n",
    "mat_pre = np.loadtxt(\"D:\\\\petri_learning\\\\c.pre.txt\")\n",
    "mat_post = np.loadtxt(\"D:\\\\petri_learning\\\\c.post.txt\")\n",
    "m0 = np.loadtxt(\"D:\\\\petri_learning\\\\m0.txt\")\n",
    "    \n",
    "\n",
    "graph_v=Graph_V(mat_pre,mat_post,m0)\n",
    "node=Node(0)\n",
    "graph_e=Graph_E(node)\n",
    "graph_w=Graph_W()\n",
    "\n",
    "while(graph_v.is_empty_Vnew()):\n",
    "    new_node=graph_v.node_choose()       #步骤4  从任意Vnew中选取新节点m\n",
    "    graph_v.is_tansition(graph_v.V[new_node]) #步骤5  获得m可激发变迁Te\n",
    "    graph_v.Vnew_delete(new_node)        #       并删除Vnew\n",
    "    graph_e.append_head_node(new_node)\n",
    "    while(graph_v.is_empty_Te()):\n",
    "        tran_enable=graph_v.Te_choose()      #步骤6  从Te中随机选择一个可激发变迁\n",
    "        graph_v.T_delete(tran_enable)        #       并将该变迁从Te中删除\n",
    "        graph_v.firing(tran_enable,graph_v.V[new_node])          #步骤7  激发变迁  得到m'\n",
    "        if graph_v.is_new_node(graph_v.m):        #步骤8  判断m'是不是新出现节点\n",
    "            graph_v.node_update()            #       是  则更新V_new  V  W E\n",
    "\n",
    "        print(new_node,tran_enable,get_node_num(graph_v.V,graph_v.m))\n",
    "        graph_e.append_next_node(new_node,get_node_num(graph_v.V,graph_v.m))\n",
    "    \n",
    "\n",
    "graph_e.edge,graph_v.V\n",
    "\n"
   ]
  },
  {
   "cell_type": "code",
   "execution_count": 705,
   "metadata": {},
   "outputs": [
    {
     "ename": "AttributeError",
     "evalue": "'list' object has no attribute 'push'",
     "output_type": "error",
     "traceback": [
      "\u001b[1;31m---------------------------------------------------------------------------\u001b[0m",
      "\u001b[1;31mAttributeError\u001b[0m                            Traceback (most recent call last)",
      "\u001b[1;32mc:\\Users\\yjj\\Documents\\tencent files\\605486652\\filerecv\\mobilefile\\petri.ipynb Cell 9'\u001b[0m in \u001b[0;36m<cell line: 2>\u001b[1;34m()\u001b[0m\n\u001b[0;32m      <a href='vscode-notebook-cell:/c%3A/Users/yjj/Documents/tencent%20files/605486652/filerecv/mobilefile/petri.ipynb#ch0000009?line=0'>1</a>\u001b[0m lix \u001b[39m=\u001b[39m []\n\u001b[0;32m      <a href='vscode-notebook-cell:/c%3A/Users/yjj/Documents/tencent%20files/605486652/filerecv/mobilefile/petri.ipynb#ch0000009?line=1'>2</a>\u001b[0m \u001b[39mfor\u001b[39;00m x \u001b[39min\u001b[39;00m \u001b[39mrange\u001b[39m(\u001b[39m1\u001b[39m, \u001b[39m101\u001b[39m):\n\u001b[1;32m----> <a href='vscode-notebook-cell:/c%3A/Users/yjj/Documents/tencent%20files/605486652/filerecv/mobilefile/petri.ipynb#ch0000009?line=2'>3</a>\u001b[0m     lix\u001b[39m.\u001b[39;49mpush(x \u001b[39m*\u001b[39m\u001b[39m*\u001b[39m \u001b[39m2\u001b[39m)\n",
      "\u001b[1;31mAttributeError\u001b[0m: 'list' object has no attribute 'push'"
     ]
    }
   ],
   "source": []
  },
  {
   "cell_type": "code",
   "execution_count": 25,
   "metadata": {},
   "outputs": [
    {
     "data": {
      "text/plain": [
       "30"
      ]
     },
     "execution_count": 25,
     "metadata": {},
     "output_type": "execute_result"
    }
   ],
   "source": [
    "\n",
    "\n",
    "[k for k, v in graph_v.V.items() if (v == graph_v.m).all(0)][0]"
   ]
  },
  {
   "cell_type": "code",
   "execution_count": 20,
   "metadata": {},
   "outputs": [
    {
     "data": {
      "text/plain": [
       "array([0., 0., 0., 0., 0., 2., 1.])"
      ]
     },
     "execution_count": 20,
     "metadata": {},
     "output_type": "execute_result"
    }
   ],
   "source": [
    "graph_v.m"
   ]
  },
  {
   "cell_type": "code",
   "execution_count": 607,
   "metadata": {},
   "outputs": [
    {
     "data": {
      "text/plain": [
       "dict_keys([0, 1, 2, 3, 4, 5, 6, 7, 8, 9, 10, 11, 12, 13, 14, 15, 16, 17, 18, 19, 20, 21, 22, 23, 24, 25, 26, 27, 28, 29])"
      ]
     },
     "execution_count": 607,
     "metadata": {},
     "output_type": "execute_result"
    }
   ],
   "source": [
    "graph_v.V.keys()"
   ]
  },
  {
   "cell_type": "code",
   "execution_count": 8,
   "metadata": {},
   "outputs": [
    {
     "data": {
      "text/plain": [
       "array([[ 4,  5,  6,  7],\n",
       "       [ 8,  9, 10, 11]])"
      ]
     },
     "execution_count": 8,
     "metadata": {},
     "output_type": "execute_result"
    }
   ],
   "source": [
    "modified_array = np.delete(a,(a==b).all(1).nonzero()[0],0)\n",
    "modified_array"
   ]
  },
  {
   "cell_type": "code",
   "execution_count": 40,
   "metadata": {},
   "outputs": [
    {
     "data": {
      "text/plain": [
       "(array([0, 0, 0, 0], dtype=int64), array([0, 1, 2, 3], dtype=int64))"
      ]
     },
     "execution_count": 40,
     "metadata": {},
     "output_type": "execute_result"
    }
   ],
   "source": [
    "np.where(a==b)"
   ]
  },
  {
   "cell_type": "code",
   "execution_count": 79,
   "metadata": {},
   "outputs": [
    {
     "data": {
      "text/plain": [
       "0"
      ]
     },
     "execution_count": 79,
     "metadata": {},
     "output_type": "execute_result"
    }
   ],
   "source": [
    "(a==b).all(1).nonzero()[0].size"
   ]
  },
  {
   "cell_type": "code",
   "execution_count": null,
   "metadata": {},
   "outputs": [],
   "source": []
  }
 ],
 "metadata": {
  "kernelspec": {
   "display_name": "Python 3.9.13 ('pytorch_gpu')",
   "language": "python",
   "name": "python3"
  },
  "language_info": {
   "codemirror_mode": {
    "name": "ipython",
    "version": 3
   },
   "file_extension": ".py",
   "mimetype": "text/x-python",
   "name": "python",
   "nbconvert_exporter": "python",
   "pygments_lexer": "ipython3",
   "version": "3.9.13"
  },
  "orig_nbformat": 4,
  "vscode": {
   "interpreter": {
    "hash": "0bafb13536215269499600298b20363bf8deb2486dd63bd5249102a486d230ba"
   }
  }
 },
 "nbformat": 4,
 "nbformat_minor": 2
}
